{
 "cells": [
  {
   "cell_type": "markdown",
   "metadata": {},
   "source": [
    "# Самурай без меча подобен самураю с мечом, но только без меча\n",
    "\n",
    "Поэтому начнём с разновидностей словарей"
   ]
  },
  {
   "cell_type": "markdown",
   "metadata": {},
   "source": [
    "## Содержание\n",
    "* [Collections](#Collections)  \n",
    "* [OrderedDict](#OrderedDict)    \n",
    "* [defaultdict](#defaultdict)    \n",
    "* [Counter](#Counter)\n",
    "* [namedtuple](#namedtuple)\n",
    " - [Сравнение производительности dict vs namedtuple vs class object](#Сравнение производительности)\n",
    "* [deque](#deque)"
   ]
  },
  {
   "cell_type": "markdown",
   "metadata": {},
   "source": [
    "# <span style=\"color:green\">Collections</span>\n",
    "Модуль `сollections` реализует специальные типы данных, предоставляя альтернативу встренным типам `dict`, `list`, `set` и `tuples`. \n",
    "   \n",
    "**Основные типы модуля `collections`**  \n",
    "  \n",
    "|  Тип данных collections | Описание                                                                       |\n",
    "|-------------------------|--------------------------------------------------------------------------------|\n",
    "| OrderDict               | Словарь (dict), который запоминает порядок добавления элементов                |\n",
    "| defaultdict             | Словарь (dict), который вызывает функцию для заполнения пропущенных значений   |\n",
    "| Counter                 | Словарь (dict) для подсчета хэшируемых объектов                                |\n",
    "| namedtuple()            | Функция для создания кортежей (tuple) с именованными полями                    |\n",
    "| deque                   | Двустороняя очередь на основе списка (list) с быстрым индексированием объектов |"
   ]
  },
  {
   "cell_type": "markdown",
   "metadata": {},
   "source": [
    "# <span style=\"color:green\">OrderedDict</span>"
   ]
  },
  {
   "cell_type": "markdown",
   "metadata": {},
   "source": [
    "**`collections.OrderedDict`** - oбычный словарь, только помнит в каком порядке добавлялись элементы."
   ]
  },
  {
   "cell_type": "markdown",
   "metadata": {},
   "source": [
    "Основные методы:\n",
    " - `popitem(last=True)` возвращает и удаляет пару ключ-значение, которые были добавлены последними (`last`=True) или первыми (`last`=False)\n",
    " - `move_to_end(key, last=True)` - добавляет ключ в конец если `last`=True, и в начало, если `last`=False"
   ]
  },
  {
   "cell_type": "markdown",
   "metadata": {},
   "source": [
    "**В целом, очень редко используется**"
   ]
  },
  {
   "cell_type": "markdown",
   "metadata": {},
   "source": [
    "### Примеры использования"
   ]
  },
  {
   "cell_type": "code",
   "execution_count": 1,
   "metadata": {
    "collapsed": true
   },
   "outputs": [],
   "source": [
    "from collections import OrderedDict"
   ]
  },
  {
   "cell_type": "markdown",
   "metadata": {},
   "source": [
    "**Создание упорядоченного словаря**"
   ]
  },
  {
   "cell_type": "code",
   "execution_count": 2,
   "metadata": {},
   "outputs": [
    {
     "name": "stdout",
     "output_type": "stream",
     "text": [
      "<class 'collections.OrderedDict'>\n"
     ]
    },
    {
     "data": {
      "text/plain": [
       "OrderedDict([('Data', 'Mining'), ('In', 'Action')])"
      ]
     },
     "execution_count": 2,
     "metadata": {},
     "output_type": "execute_result"
    }
   ],
   "source": [
    "od = OrderedDict()\n",
    "od['Data'] = 'Mining' # первый\n",
    "od['In'] = 'Action' # второй\n",
    "print(type(od))\n",
    "od"
   ]
  },
  {
   "cell_type": "markdown",
   "metadata": {},
   "source": [
    "**Создание упорядоченного словаря из существующего**"
   ]
  },
  {
   "cell_type": "code",
   "execution_count": 3,
   "metadata": {
    "collapsed": true
   },
   "outputs": [],
   "source": [
    "simple_dict = {'Warren': 84,  'Bill': 90, 'Mark': 71, 'Jeff': 112} # обычный словарь"
   ]
  },
  {
   "cell_type": "code",
   "execution_count": 4,
   "metadata": {},
   "outputs": [
    {
     "data": {
      "text/plain": [
       "OrderedDict([('Warren', 84),\n",
       "             ('Bill', 90),\n",
       "             ('Mark', 71),\n",
       "             ('Jeff', 112),\n",
       "             ('Larry', 50)])"
      ]
     },
     "execution_count": 4,
     "metadata": {},
     "output_type": "execute_result"
    }
   ],
   "source": [
    "order_dict = OrderedDict(simple_dict)\n",
    "order_dict['Larry'] = 50 # добавляет в конец\n",
    "order_dict"
   ]
  },
  {
   "cell_type": "markdown",
   "metadata": {},
   "source": [
    "**Создание упорядоченного словаря из существующего после его сортировки**"
   ]
  },
  {
   "cell_type": "markdown",
   "metadata": {},
   "source": [
    "Можно задать порядок словарю, например по возрастанию ключей:"
   ]
  },
  {
   "cell_type": "code",
   "execution_count": 5,
   "metadata": {},
   "outputs": [
    {
     "data": {
      "text/plain": [
       "OrderedDict([('Bill', 90), ('Jeff', 112), ('Mark', 71), ('Warren', 84)])"
      ]
     },
     "execution_count": 5,
     "metadata": {},
     "output_type": "execute_result"
    }
   ],
   "source": [
    "key_sorted_dict = OrderedDict(sorted(simple_dict.items(), key=lambda t: t[0]))\n",
    "key_sorted_dict"
   ]
  },
  {
   "cell_type": "markdown",
   "metadata": {},
   "source": [
    "Или по возрастанию значений:"
   ]
  },
  {
   "cell_type": "code",
   "execution_count": 6,
   "metadata": {},
   "outputs": [
    {
     "data": {
      "text/plain": [
       "OrderedDict([('Mark', 71), ('Warren', 84), ('Bill', 90), ('Jeff', 112)])"
      ]
     },
     "execution_count": 6,
     "metadata": {},
     "output_type": "execute_result"
    }
   ],
   "source": [
    "val_sorted_dict = OrderedDict(sorted(simple_dict.items(), key=lambda t: t[1]))\n",
    "val_sorted_dict"
   ]
  },
  {
   "cell_type": "markdown",
   "metadata": {},
   "source": [
    "Или по длине ключа:"
   ]
  },
  {
   "cell_type": "code",
   "execution_count": 7,
   "metadata": {},
   "outputs": [
    {
     "data": {
      "text/plain": [
       "OrderedDict([('Bill', 90), ('Mark', 71), ('Jeff', 112), ('Warren', 84)])"
      ]
     },
     "execution_count": 7,
     "metadata": {},
     "output_type": "execute_result"
    }
   ],
   "source": [
    "len_sorted_dict = OrderedDict(sorted(simple_dict.items(), key=lambda t: len(t[0])))\n",
    "len_sorted_dict"
   ]
  },
  {
   "cell_type": "markdown",
   "metadata": {},
   "source": [
    "**Удаление последнего элемента**"
   ]
  },
  {
   "cell_type": "code",
   "execution_count": 8,
   "metadata": {},
   "outputs": [
    {
     "data": {
      "text/plain": [
       "('Warren', 84)"
      ]
     },
     "execution_count": 8,
     "metadata": {},
     "output_type": "execute_result"
    }
   ],
   "source": [
    "len_sorted_dict.popitem()"
   ]
  },
  {
   "cell_type": "code",
   "execution_count": 9,
   "metadata": {},
   "outputs": [
    {
     "data": {
      "text/plain": [
       "OrderedDict([('Bill', 90), ('Mark', 71), ('Jeff', 112)])"
      ]
     },
     "execution_count": 9,
     "metadata": {},
     "output_type": "execute_result"
    }
   ],
   "source": [
    "len_sorted_dict"
   ]
  },
  {
   "cell_type": "markdown",
   "metadata": {},
   "source": [
    "**Перемещение существующего элемента в конец**"
   ]
  },
  {
   "cell_type": "code",
   "execution_count": 10,
   "metadata": {},
   "outputs": [
    {
     "data": {
      "text/plain": [
       "OrderedDict([('Bill', 90), ('Jeff', 112), ('Mark', 71)])"
      ]
     },
     "execution_count": 10,
     "metadata": {},
     "output_type": "execute_result"
    }
   ],
   "source": [
    "len_sorted_dict.move_to_end('Mark')\n",
    "len_sorted_dict"
   ]
  },
  {
   "cell_type": "markdown",
   "metadata": {},
   "source": [
    "# <span style=\"color:green\">defaultdict</span>"
   ]
  },
  {
   "cell_type": "markdown",
   "metadata": {},
   "source": [
    "**`collections.defaultdict`** - oбычный словарь, но со значением по умолчанию, которое можно задавать. "
   ]
  },
  {
   "cell_type": "markdown",
   "metadata": {},
   "source": [
    "**Создание**"
   ]
  },
  {
   "cell_type": "markdown",
   "metadata": {},
   "source": [
    "Основной атрибут:\n",
    "- default_factory - вызываемый объект для создания значения по умолчанию."
   ]
  },
  {
   "cell_type": "code",
   "execution_count": 11,
   "metadata": {
    "collapsed": true
   },
   "outputs": [],
   "source": [
    "from collections import defaultdict"
   ]
  },
  {
   "cell_type": "code",
   "execution_count": 12,
   "metadata": {},
   "outputs": [
    {
     "name": "stdout",
     "output_type": "stream",
     "text": [
      "defaultdict(<class 'int'>, {})\n",
      "defaultdict(<class 'float'>, {})\n",
      "defaultdict(<class 'list'>, {})\n",
      "defaultdict(<class 'dict'>, {})\n",
      "defaultdict(<function <lambda> at 0x7fc32c555598>, {})\n"
     ]
    }
   ],
   "source": [
    "print(defaultdict(int))       # значение по умолчанию 0\n",
    "print(defaultdict(float))     # значение по умолчанию 0.0\n",
    "print(defaultdict(list))      # значение по умолчанию []\n",
    "print(defaultdict(dict))      # значение по умолчанию {}\n",
    "print(defaultdict(lambda: 7)) # значение по умолчанию 7"
   ]
  },
  {
   "cell_type": "markdown",
   "metadata": {},
   "source": [
    "<span style=\"color:blue\">Чем плохо так писать?</span>"
   ]
  },
  {
   "cell_type": "code",
   "execution_count": 13,
   "metadata": {},
   "outputs": [],
   "source": [
    "# mutable type\n",
    "default = {'id': 0}\n",
    "ddict = defaultdict(lambda: default.copy())"
   ]
  },
  {
   "cell_type": "code",
   "execution_count": 14,
   "metadata": {
    "collapsed": true
   },
   "outputs": [],
   "source": [
    "a = {'id': 10}"
   ]
  },
  {
   "cell_type": "code",
   "execution_count": 15,
   "metadata": {
    "collapsed": true
   },
   "outputs": [],
   "source": [
    "b = a"
   ]
  },
  {
   "cell_type": "code",
   "execution_count": 16,
   "metadata": {
    "collapsed": true
   },
   "outputs": [],
   "source": [
    "b['id'] = 8"
   ]
  },
  {
   "cell_type": "code",
   "execution_count": 17,
   "metadata": {},
   "outputs": [
    {
     "data": {
      "text/plain": [
       "{'id': 8}"
      ]
     },
     "execution_count": 17,
     "metadata": {},
     "output_type": "execute_result"
    }
   ],
   "source": [
    "a"
   ]
  },
  {
   "cell_type": "code",
   "execution_count": null,
   "metadata": {
    "collapsed": true
   },
   "outputs": [],
   "source": []
  },
  {
   "cell_type": "code",
   "execution_count": 18,
   "metadata": {},
   "outputs": [
    {
     "name": "stdout",
     "output_type": "stream",
     "text": [
      "defaultdict(<function <lambda> at 0x7fc32cdbb950>, {'lol': {'id': 8}})\n",
      "{'id': 0}\n",
      "defaultdict(<function <lambda> at 0x7fc32cdbb950>, {'lol': {'id': 8}, 1: {'id': 'azaza'}})\n",
      "{'id': 0}\n"
     ]
    }
   ],
   "source": [
    "ddict['lol']['id'] = 8\n",
    "print(ddict)\n",
    "print(default)\n",
    "ddict[1]['id'] = 'azaza'\n",
    "print(ddict)\n",
    "print(default)"
   ]
  },
  {
   "cell_type": "code",
   "execution_count": 19,
   "metadata": {
    "collapsed": true
   },
   "outputs": [],
   "source": [
    "ddict = defaultdict(lambda: {'id': 0})"
   ]
  },
  {
   "cell_type": "code",
   "execution_count": 20,
   "metadata": {},
   "outputs": [
    {
     "name": "stdout",
     "output_type": "stream",
     "text": [
      "defaultdict(<function <lambda> at 0x7fc32cdbbe18>, {'lol': {'id': 8}})\n",
      "defaultdict(<function <lambda> at 0x7fc32cdbbe18>, {'lol': {'id': 8}, 1: {'id': 'azaza'}})\n"
     ]
    }
   ],
   "source": [
    "ddict['lol']['id'] = 8\n",
    "print(ddict)\n",
    "ddict[1]['id'] = 'azaza'\n",
    "print(ddict)"
   ]
  },
  {
   "cell_type": "markdown",
   "metadata": {},
   "source": [
    "### Примеры использования"
   ]
  },
  {
   "cell_type": "markdown",
   "metadata": {},
   "source": [
    "Группировка данных:"
   ]
  },
  {
   "cell_type": "code",
   "execution_count": 21,
   "metadata": {
    "collapsed": true
   },
   "outputs": [],
   "source": [
    "s = [('yellow', 1), ('blue', 2), ('yellow', 3), ('blue', 4), ('red', 1)] * 100000"
   ]
  },
  {
   "cell_type": "code",
   "execution_count": 22,
   "metadata": {},
   "outputs": [
    {
     "name": "stdout",
     "output_type": "stream",
     "text": [
      "CPU times: user 92.4 ms, sys: 3.38 ms, total: 95.7 ms\n",
      "Wall time: 94.9 ms\n"
     ]
    }
   ],
   "source": [
    "%%time\n",
    "d = defaultdict(list) # значение по умолчанию - пустой список []\n",
    "for k, v in s:\n",
    "    d[k].append(v)\n",
    "\n",
    "# print(d)"
   ]
  },
  {
   "cell_type": "markdown",
   "metadata": {},
   "source": [
    "С помощью стандарных методов реализация получается гораздо менее эффективной.   \n",
    "<span style=\"color:blue\">Как то же самое можно реализовать с помощью стандарных методов словаря?</span>"
   ]
  },
  {
   "cell_type": "code",
   "execution_count": 23,
   "metadata": {},
   "outputs": [
    {
     "name": "stdout",
     "output_type": "stream",
     "text": [
      "CPU times: user 215 ms, sys: 0 ns, total: 215 ms\n",
      "Wall time: 214 ms\n"
     ]
    }
   ],
   "source": [
    "%%time\n",
    "# попробуйте реализовать код выше, не используя defaultdict\n",
    "d = dict()\n",
    "for k, v in s:\n",
    "    d.setdefault(k, [])\n",
    "    d[k].append(v)\n",
    "    \n",
    "# print(d)"
   ]
  },
  {
   "cell_type": "markdown",
   "metadata": {},
   "source": [
    "Счетчик (например, для подсчета количества встречаемости букв):"
   ]
  },
  {
   "cell_type": "code",
   "execution_count": 24,
   "metadata": {},
   "outputs": [
    {
     "name": "stdout",
     "output_type": "stream",
     "text": [
      "defaultdict(<class 'int'>, {'m': 1, 'i': 4, 's': 4, 'p': 2})\n"
     ]
    }
   ],
   "source": [
    "s = 'mississippi'\n",
    "d = defaultdict(int) # значение по умолчанию - 0\n",
    "for k in s:\n",
    "     d[k] += 1\n",
    "        \n",
    "print(d)"
   ]
  },
  {
   "cell_type": "markdown",
   "metadata": {},
   "source": [
    "Также можно использовать, когда лень писать код проверки наличия объекта в коллекции (например, в рекомендациях для новых товаров нет статистики появлений)."
   ]
  },
  {
   "cell_type": "markdown",
   "metadata": {},
   "source": [
    "# <span style=\"color:green\">Counter</span>"
   ]
  },
  {
   "cell_type": "markdown",
   "metadata": {},
   "source": [
    "**`collections.Counter`** позволяет хранить частоты объектов, по сути `defaultdict(int)`, но предоставляет дополнительные методы для работы счётчиков за счёт ограничения на тип значений."
   ]
  },
  {
   "cell_type": "markdown",
   "metadata": {},
   "source": [
    "**Основные методы:**\n",
    " -  `elements()` - возвращает список элементов;\n",
    " -  `most_common(n)` - возвращает n наиболее часто встречающихся элементов, в порядке убывания встречаемости. Если n не указано, возвращаются все элементы;\n",
    " -  `subtract()` - вычитание."
   ]
  },
  {
   "cell_type": "markdown",
   "metadata": {},
   "source": [
    "**Создание**"
   ]
  },
  {
   "cell_type": "code",
   "execution_count": 25,
   "metadata": {
    "collapsed": true
   },
   "outputs": [],
   "source": [
    "from collections import Counter"
   ]
  },
  {
   "cell_type": "markdown",
   "metadata": {},
   "source": [
    "Счетчик можно создавать на основе итерируемых обхектов (списки, строки, ...) или инициализировать из словаря:"
   ]
  },
  {
   "cell_type": "code",
   "execution_count": 26,
   "metadata": {},
   "outputs": [
    {
     "name": "stdout",
     "output_type": "stream",
     "text": [
      "Counter()\n",
      "Counter({'i': 4, 's': 4, 'p': 2, 'm': 1})\n",
      "Counter({'red': 4, 'blue': 2})\n",
      "Counter({'dogs': 8, 'cats': 4})\n"
     ]
    }
   ],
   "source": [
    "c = Counter()                           # пустой счетчик\n",
    "print(c)\n",
    "c = Counter('mississippi')              # счетчик из строки\n",
    "print(c)\n",
    "c = Counter({'red': 4, 'blue': 2})      # счетчик из словаря\n",
    "print(c)\n",
    "c = Counter(cats=4, dogs=8)             # счетчик из keyword-аргументов\n",
    "print(c)"
   ]
  },
  {
   "cell_type": "code",
   "execution_count": 27,
   "metadata": {},
   "outputs": [
    {
     "name": "stdout",
     "output_type": "stream",
     "text": [
      "Counter({'beer': 2, 'diapers': 1})\n",
      "0\n",
      "Counter({'beer': 2, 'diapers': 1})\n"
     ]
    }
   ],
   "source": [
    "c = Counter(['diapers', 'beer', 'beer'])      # счетчик из списка\n",
    "print(c)\n",
    "print(c['bread']) # для пропущенного элемента счетчик равен нулю\n",
    "print(c)"
   ]
  },
  {
   "cell_type": "markdown",
   "metadata": {},
   "source": [
    "**elements()**"
   ]
  },
  {
   "cell_type": "code",
   "execution_count": 28,
   "metadata": {},
   "outputs": [
    {
     "name": "stdout",
     "output_type": "stream",
     "text": [
      "Counter({'про': 6, 'покупки': 4, 'расскажите': 1, 'какие': 1, 'покупочки': 1, 'свои': 1})\n"
     ]
    }
   ],
   "source": [
    "c = Counter(\"\"\"расскажите про покупки про какие про покупки \n",
    "               про покупки про покупки про покупочки свои\"\"\".split())\n",
    "print(c)"
   ]
  },
  {
   "cell_type": "code",
   "execution_count": 29,
   "metadata": {},
   "outputs": [
    {
     "data": {
      "text/plain": [
       "['какие',\n",
       " 'покупки',\n",
       " 'покупки',\n",
       " 'покупки',\n",
       " 'покупки',\n",
       " 'покупочки',\n",
       " 'про',\n",
       " 'про',\n",
       " 'про',\n",
       " 'про',\n",
       " 'про',\n",
       " 'про',\n",
       " 'расскажите',\n",
       " 'свои']"
      ]
     },
     "execution_count": 29,
     "metadata": {},
     "output_type": "execute_result"
    }
   ],
   "source": [
    "sorted(c.elements())"
   ]
  },
  {
   "cell_type": "markdown",
   "metadata": {},
   "source": [
    "Метод `elements()` работает только с целыми значениями и игнорирует нулевые и отрицальные значения:"
   ]
  },
  {
   "cell_type": "code",
   "execution_count": 30,
   "metadata": {},
   "outputs": [
    {
     "name": "stdout",
     "output_type": "stream",
     "text": [
      "Counter({'b': 10, 'c': 2, 'a': 0, 'd': -3})\n",
      "['b', 'b', 'b', 'b', 'b', 'b', 'b', 'b', 'b', 'b', 'c', 'c']\n"
     ]
    }
   ],
   "source": [
    "c = Counter(a=0, b=10, c=2, d=-3)\n",
    "print(c)\n",
    "print(list(c.elements()))"
   ]
  },
  {
   "cell_type": "markdown",
   "metadata": {},
   "source": [
    "**most_common(n)**   \n",
    "Примечание:\n",
    "работает за $O(len(c) * \\log n)$"
   ]
  },
  {
   "cell_type": "code",
   "execution_count": 31,
   "metadata": {},
   "outputs": [
    {
     "name": "stdout",
     "output_type": "stream",
     "text": [
      "Counter({'o': 9, 'i': 6, 'c': 6, 'n': 4, 's': 4, 'l': 3, 'p': 2, 'u': 2, 'm': 2, 'r': 2, 'a': 2, 'e': 1, 't': 1, 'v': 1})\n"
     ]
    }
   ],
   "source": [
    "c = Counter('pneumonoultramicroscopicsilicovolcanoconiosis')\n",
    "print(c)"
   ]
  },
  {
   "cell_type": "code",
   "execution_count": 32,
   "metadata": {},
   "outputs": [
    {
     "data": {
      "text/plain": [
       "[('o', 9), ('i', 6), ('c', 6)]"
      ]
     },
     "execution_count": 32,
     "metadata": {},
     "output_type": "execute_result"
    }
   ],
   "source": [
    "c.most_common(3) # топ-3"
   ]
  },
  {
   "cell_type": "markdown",
   "metadata": {},
   "source": [
    "**substract(cnt) и update(cnt)** "
   ]
  },
  {
   "cell_type": "code",
   "execution_count": 33,
   "metadata": {},
   "outputs": [
    {
     "name": "stdout",
     "output_type": "stream",
     "text": [
      "Counter({'a': 3, 'b': 0, 'c': -3, 'e': -3, 'd': -6})\n",
      "Counter({'a': 4, 'b': 2, 'c': 0, 'e': 0, 'd': -2})\n"
     ]
    }
   ],
   "source": [
    "c = Counter(a=4, b=2, c=0, d=-2)\n",
    "d = Counter(a=1, b=2, c=3, d=4, e=3)\n",
    "c.subtract(d) # c - d\n",
    "print(c)\n",
    "c.update(d)\n",
    "print(c)"
   ]
  },
  {
   "cell_type": "markdown",
   "metadata": {},
   "source": [
    "Можно передавать всё, от чего берётся Counter"
   ]
  },
  {
   "cell_type": "code",
   "execution_count": 34,
   "metadata": {},
   "outputs": [
    {
     "name": "stdout",
     "output_type": "stream",
     "text": [
      "Counter({'a': 8, 'b': 2, 'c': 0, 'e': 0, 'd': -2})\n",
      "Counter({'a': 12, 'b': 2, 'c': 0, 'e': 0, 'd': -2})\n",
      "Counter({'a': 16, 'b': 2, 'c': 0, 'e': 0, 'd': -2})\n"
     ]
    }
   ],
   "source": [
    "c.update(a=4)\n",
    "print(c)\n",
    "c.update('aaaa')\n",
    "print(c)\n",
    "c.update({'a': 4})\n",
    "print(c)"
   ]
  },
  {
   "cell_type": "markdown",
   "metadata": {},
   "source": [
    "Можно читерить и делать счётчики нецелыми"
   ]
  },
  {
   "cell_type": "code",
   "execution_count": 35,
   "metadata": {},
   "outputs": [
    {
     "name": "stdout",
     "output_type": "stream",
     "text": [
      "Counter({'a': 7.2, 'c': 0.5, 'f': 0, 'b': -2.7, 'd': -3.0})\n",
      "[('a', 7.2), ('c', 0.5)]\n"
     ]
    }
   ],
   "source": [
    "c = Counter(a=7.2, b=-2.7, c=0.5, d=-3.0, f=0)\n",
    "print(c)\n",
    "print(c.most_common(2))"
   ]
  },
  {
   "cell_type": "markdown",
   "metadata": {},
   "source": [
    "**Приведение типов**"
   ]
  },
  {
   "cell_type": "code",
   "execution_count": 36,
   "metadata": {},
   "outputs": [
    {
     "name": "stdout",
     "output_type": "stream",
     "text": [
      "2.0\n",
      "['a', 'b', 'c', 'd', 'f']\n",
      "{'c', 'b', 'f', 'a', 'd'}\n",
      "{'a': 7.2, 'b': -2.7, 'c': 0.5, 'd': -3.0, 'f': 0}\n",
      "dict_items([('a', 7.2), ('b', -2.7), ('c', 0.5), ('d', -3.0), ('f', 0)])\n",
      "Counter({3: 4, 1: 2})\n",
      "[('d', -3.0), ('b', -2.7), ('f', 0)]\n"
     ]
    }
   ],
   "source": [
    "print(sum(c.values()))                 # общая сумма значений\n",
    "print(list(c))                         # список уникальных элементов\n",
    "print(set(c))                          # множество элементов\n",
    "print(dict(c))                         # обычный словарь\n",
    "print(c.items())                       # перевод в список (elem, cnt) пар\n",
    "print(Counter(dict([(1, 2), (3, 4)]))) # от списка пар (elem, cnt) к счетчику\n",
    "n = 3\n",
    "print(c.most_common()[:-n-1:-1])       # n наименее распостраненных элементов"
   ]
  },
  {
   "cell_type": "markdown",
   "metadata": {},
   "source": [
    "**Унарные операции с счетчиком**"
   ]
  },
  {
   "cell_type": "code",
   "execution_count": 37,
   "metadata": {},
   "outputs": [
    {
     "name": "stdout",
     "output_type": "stream",
     "text": [
      "Counter({'a': 7.2, 'c': 0.5, 'f': 0, 'b': -2.7, 'd': -3.0})\n",
      "Counter({'a': 7.2, 'c': 0.5})\n",
      "Counter({'d': 3.0, 'b': 2.7})\n"
     ]
    }
   ],
   "source": [
    "print(c)              \n",
    "print(+c)             # только положительные значения\n",
    "print(-c)             # отрицательные значения по модулю"
   ]
  },
  {
   "cell_type": "markdown",
   "metadata": {},
   "source": [
    "**Операции с счетчиками**"
   ]
  },
  {
   "cell_type": "code",
   "execution_count": 38,
   "metadata": {},
   "outputs": [
    {
     "name": "stdout",
     "output_type": "stream",
     "text": [
      "Counter({'a': 4, 'b': 3})\n",
      "Counter({'a': 2})\n",
      "Counter({'a': 1, 'b': 1})\n",
      "Counter({'a': 3, 'b': 2})\n"
     ]
    }
   ],
   "source": [
    "c = Counter(a=3, b=1)\n",
    "d = Counter(a=1, b=2)\n",
    "print(c + d)                       # сложение счетчиков:  c[x] + d[x]\n",
    "print(c - d)                       # вычитание (сохраняются только положительные значения!)\n",
    "print(c & d)                       # пересечение:  min(c[x], d[x]) \n",
    "print(c | d)                       # объединение:  max(c[x], d[x])"
   ]
  },
  {
   "cell_type": "markdown",
   "metadata": {},
   "source": [
    "### Примеры использования"
   ]
  },
  {
   "cell_type": "markdown",
   "metadata": {},
   "source": [
    "Counter используют, как следует из названия, чтобы считать счётчики.  \n",
    "Предположим у нас есть 6 записей о покупках пользователей на сайте:"
   ]
  },
  {
   "cell_type": "code",
   "execution_count": 39,
   "metadata": {
    "collapsed": true
   },
   "outputs": [],
   "source": [
    "visits = [{'id': '1',  'items': ['dress', 't-shirt', 'ring']}, \n",
    "          {'id': '10', 'items': ['scarf', 'mittens']}, \n",
    "          {'id': '4',  'items': ['dress', 'ring']}, \n",
    "          {'id': '2',  'items': ['t-shirt', 'scrarf', 'dress']}, \n",
    "          {'id': '4',  'items': ['scarf']}, \n",
    "          {'id': '1',  'items': ['dress', 'dress', 'scarf']}]"
   ]
  },
  {
   "cell_type": "markdown",
   "metadata": {},
   "source": [
    "Посчитаем частоту встречи 'id':"
   ]
  },
  {
   "cell_type": "code",
   "execution_count": 40,
   "metadata": {},
   "outputs": [
    {
     "name": "stdout",
     "output_type": "stream",
     "text": [
      "Counter({'1': 2, '4': 2, '10': 1, '2': 1})\n"
     ]
    }
   ],
   "source": [
    "occurences = Counter()\n",
    "for visit in visits:\n",
    "    occurences[visit['id']] += 1\n",
    "print(occurences)"
   ]
  },
  {
   "cell_type": "markdown",
   "metadata": {},
   "source": [
    "Тоже самое, но короче с помощью спискового включения (list comprehension):"
   ]
  },
  {
   "cell_type": "code",
   "execution_count": 41,
   "metadata": {},
   "outputs": [
    {
     "name": "stdout",
     "output_type": "stream",
     "text": [
      "Counter({'1': 2, '4': 2, '10': 1, '2': 1})\n"
     ]
    }
   ],
   "source": [
    "print(Counter(x['id'] for x in visits))"
   ]
  },
  {
   "cell_type": "markdown",
   "metadata": {},
   "source": [
    "<span style=\"color:blue\">Определите топ-3 самых популярных товаров</span>"
   ]
  },
  {
   "cell_type": "code",
   "execution_count": 42,
   "metadata": {},
   "outputs": [
    {
     "name": "stdout",
     "output_type": "stream",
     "text": [
      "[('dress', 5), ('scarf', 3), ('t-shirt', 2)]\n"
     ]
    }
   ],
   "source": [
    "occurences = Counter()\n",
    "for visit in visits:\n",
    "    c = Counter(visit['items'])\n",
    "    occurences += c\n",
    "    \n",
    "print(occurences.most_common(3))"
   ]
  },
  {
   "cell_type": "code",
   "execution_count": 43,
   "metadata": {},
   "outputs": [
    {
     "data": {
      "text/plain": [
       "[('dress', 5), ('scarf', 3), ('t-shirt', 2)]"
      ]
     },
     "execution_count": 43,
     "metadata": {},
     "output_type": "execute_result"
    }
   ],
   "source": [
    "from functools import reduce\n",
    "reduce(lambda x, y: x + y, (Counter(x['items']) for x in visits)).most_common(3)"
   ]
  },
  {
   "cell_type": "markdown",
   "metadata": {},
   "source": [
    "# <span style=\"color:green\">namedtuple</span>"
   ]
  },
  {
   "cell_type": "markdown",
   "metadata": {},
   "source": [
    "Класс `collections.namedtuple`, как следует из названия, это tuple, к элементам которого можно обращаться по имени. \n",
    "Нужен, когда важна читабельность кода и память."
   ]
  },
  {
   "cell_type": "markdown",
   "metadata": {},
   "source": [
    "Основные методы:\n",
    "   - somenamedtuple._make(iterable) - создание namedtuble из итерируемого объекта\n",
    "   - somenamedtuple._asdict() - создает OrederedDict по именам полей\n",
    "   - somenamedtuple._replace() - возвращает новый namedtuple заменяя значение у соответвующего поля"
   ]
  },
  {
   "cell_type": "markdown",
   "metadata": {},
   "source": [
    "**Простой пример**"
   ]
  },
  {
   "cell_type": "code",
   "execution_count": 44,
   "metadata": {
    "collapsed": true
   },
   "outputs": [],
   "source": [
    "from collections import namedtuple"
   ]
  },
  {
   "cell_type": "code",
   "execution_count": 45,
   "metadata": {
    "scrolled": true
   },
   "outputs": [
    {
     "name": "stdout",
     "output_type": "stream",
     "text": [
      "('x', 'y')\n",
      "('x', 'y')\n"
     ]
    }
   ],
   "source": [
    "# создание namedtuple\n",
    "Point = namedtuple('Point', ['x', 'y'])\n",
    "print(Point._fields)\n",
    "\n",
    "Point = namedtuple('Point', 'x y')\n",
    "print(Point._fields)"
   ]
  },
  {
   "cell_type": "code",
   "execution_count": 46,
   "metadata": {},
   "outputs": [
    {
     "name": "stdout",
     "output_type": "stream",
     "text": [
      "Point(x=1, y=2)\n",
      "Point(x=2, y=3)\n",
      "p.x = 2\n",
      "p.y = 3\n"
     ]
    }
   ],
   "source": [
    "# создание объекта из из keyword-аргументов\n",
    "p = Point(x=1, y=2)\n",
    "print(p)\n",
    "\n",
    "# передача аргументов с помощью словаря\n",
    "p = Point(**{'x': 2, 'y': 3})\n",
    "print(p)\n",
    "\n",
    "print(\"p.x =\", p.x)\n",
    "print(\"p.y =\", p.y)"
   ]
  },
  {
   "cell_type": "code",
   "execution_count": 47,
   "metadata": {},
   "outputs": [
    {
     "name": "stdout",
     "output_type": "stream",
     "text": [
      "Point(x=10, y=12)\n"
     ]
    }
   ],
   "source": [
    "p = p._make([10, 12])\n",
    "print(p)"
   ]
  },
  {
   "cell_type": "code",
   "execution_count": 48,
   "metadata": {},
   "outputs": [
    {
     "data": {
      "text/plain": [
       "OrderedDict([('x', 10), ('y', 12)])"
      ]
     },
     "execution_count": 48,
     "metadata": {},
     "output_type": "execute_result"
    }
   ],
   "source": [
    "p._asdict() # переход к OrederedDict"
   ]
  },
  {
   "cell_type": "code",
   "execution_count": 49,
   "metadata": {},
   "outputs": [
    {
     "data": {
      "text/plain": [
       "Point(x=20, y=12)"
      ]
     },
     "execution_count": 49,
     "metadata": {},
     "output_type": "execute_result"
    }
   ],
   "source": [
    "p._replace(x=20) # замена значения"
   ]
  },
  {
   "cell_type": "markdown",
   "metadata": {},
   "source": [
    "**Пример использования**"
   ]
  },
  {
   "cell_type": "code",
   "execution_count": 50,
   "metadata": {
    "collapsed": true
   },
   "outputs": [],
   "source": [
    "import random\n",
    "import time\n",
    "import sys"
   ]
  },
  {
   "cell_type": "markdown",
   "metadata": {},
   "source": [
    "## <a id=\"Сравнение производительности\">Сравнение производительности (dict vs namedtuple vs class object with slots)</a>"
   ]
  },
  {
   "cell_type": "markdown",
   "metadata": {},
   "source": [
    "#### Память"
   ]
  },
  {
   "cell_type": "code",
   "execution_count": 51,
   "metadata": {},
   "outputs": [
    {
     "name": "stdout",
     "output_type": "stream",
     "text": [
      "dict object size is 240\n"
     ]
    }
   ],
   "source": [
    "# словарь словарей\n",
    "objects_dict = {\n",
    "    x: {\n",
    "        'first_property': random.random(),\n",
    "        'second_property': random.random(),\n",
    "        'fourth_property': random.random(),\n",
    "        'do_you_know_where_the_third_property_is': random.random() < 0.5,\n",
    "        }\n",
    "    for x in range(100000)\n",
    "}\n",
    "\n",
    "print('dict object size is', sys.getsizeof(objects_dict[0]))"
   ]
  },
  {
   "cell_type": "code",
   "execution_count": 52,
   "metadata": {},
   "outputs": [
    {
     "name": "stdout",
     "output_type": "stream",
     "text": [
      "namedtuple object size is 80\n"
     ]
    }
   ],
   "source": [
    "# словарь namedtuple-ов\n",
    "ComplexObject = namedtuple(\n",
    "    'ComplexObject', \n",
    "    'first_property second_property fourth_property do_you_know_where_the_third_property_is'\n",
    ")\n",
    "\n",
    "objects_namedtuple = {\n",
    "    k: ComplexObject(**v)\n",
    "    for k, v in objects_dict.items()\n",
    "}\n",
    "print('namedtuple object size is', sys.getsizeof(objects_namedtuple[0]))"
   ]
  },
  {
   "cell_type": "code",
   "execution_count": 53,
   "metadata": {},
   "outputs": [
    {
     "name": "stdout",
     "output_type": "stream",
     "text": [
      "slots class object size is 80\n"
     ]
    }
   ],
   "source": [
    "class MObject(object):\n",
    "    __slots__ = ('first_property', 'second_property', 'fourth_property', 'do_you_know_where_the_third_property_is')\n",
    "    def __init__(self, first_property, second_property, fourth_property, do_you_know_where_the_third_property_is):\n",
    "        self.first_property = first_property\n",
    "        self.second_property = second_property\n",
    "        self.fourth_property = fourth_property\n",
    "        self.do_you_know_where_the_third_property_is = do_you_know_where_the_third_property_is\n",
    "        \n",
    "# словарь экзэмпляров класса        \n",
    "objects_class = {\n",
    "    k: MObject(**v)\n",
    "    for k, v in objects_dict.items()\n",
    "}\n",
    "print('slots class object size is', sys.getsizeof(objects_namedtuple[0]))"
   ]
  },
  {
   "cell_type": "markdown",
   "metadata": {},
   "source": [
    "#### Время"
   ]
  },
  {
   "cell_type": "markdown",
   "metadata": {},
   "source": [
    "**Dict**"
   ]
  },
  {
   "cell_type": "code",
   "execution_count": 54,
   "metadata": {},
   "outputs": [
    {
     "name": "stdout",
     "output_type": "stream",
     "text": [
      "first_value = 500025.94019293465\n",
      "second_value = 500910.65309275064\n",
      "fourth_value = 500324.5613034676\n",
      "bool_value = 500324.5613034676\n",
      "Total time = 0.34126734733581543\n",
      "\n",
      "CPU times: user 3.52 s, sys: 0 ns, total: 3.52 s\n",
      "Wall time: 3.52 s\n"
     ]
    }
   ],
   "source": [
    "%%time\n",
    "total_time = 0.\n",
    "first_value = 0.\n",
    "second_value = 0.\n",
    "fourth_value = 0.\n",
    "bool_value = False\n",
    "random.seed(42)\n",
    "for _ in range(1000000):\n",
    "    index = random.randint(0, 99999)\n",
    "    obj = objects_dict[index]\n",
    "    bool_value ^= obj['do_you_know_where_the_third_property_is'] # ^ - побитовое исключающее ИЛИ (xor)\n",
    "    first_value += obj['first_property']\n",
    "    second_value += obj['second_property']\n",
    "    fourth_value += obj['fourth_property']\n",
    "    \n",
    "    start = time.time()\n",
    "    obj['do_you_know_where_the_third_property_is']\n",
    "    obj['first_property']\n",
    "    obj['second_property']\n",
    "    obj['fourth_property']\n",
    "    total_time += time.time() - start\n",
    "    \n",
    "print(\"first_value =\", first_value)\n",
    "print(\"second_value =\", second_value)\n",
    "print(\"fourth_value =\", fourth_value)\n",
    "print(\"bool_value =\", fourth_value)\n",
    "\n",
    "print(\"Total time =\",total_time)\n",
    "print()"
   ]
  },
  {
   "cell_type": "markdown",
   "metadata": {},
   "source": [
    "**Namedtuple**"
   ]
  },
  {
   "cell_type": "code",
   "execution_count": 55,
   "metadata": {},
   "outputs": [
    {
     "name": "stdout",
     "output_type": "stream",
     "text": [
      "first_value = 500025.94019293465\n",
      "second_value = 500910.65309275064\n",
      "fourth_value = 500324.5613034676\n",
      "bool_value = 500324.5613034676\n",
      "Total time = 0.5251772403717041\n",
      "\n",
      "CPU times: user 4.47 s, sys: 2.87 ms, total: 4.47 s\n",
      "Wall time: 4.48 s\n"
     ]
    }
   ],
   "source": [
    "%%time\n",
    "total_time = 0.\n",
    "first_value = 0.\n",
    "second_value = 0.\n",
    "fourth_value = 0.\n",
    "bool_value = False\n",
    "random.seed(42)\n",
    "for _ in range(1000000):\n",
    "    index = random.randint(0, 99999)\n",
    "    obj = objects_namedtuple[index]\n",
    "    bool_value ^= obj.do_you_know_where_the_third_property_is\n",
    "    first_value += obj.first_property\n",
    "    second_value += obj.second_property\n",
    "    fourth_value += obj.fourth_property\n",
    "    \n",
    "    start = time.time()\n",
    "    obj.do_you_know_where_the_third_property_is\n",
    "    obj.first_property\n",
    "    obj.second_property\n",
    "    obj.fourth_property\n",
    "    total_time += time.time() - start\n",
    "\n",
    "print(\"first_value =\", first_value)\n",
    "print(\"second_value =\", second_value)\n",
    "print(\"fourth_value =\", fourth_value)\n",
    "print(\"bool_value =\", fourth_value)\n",
    "\n",
    "print(\"Total time =\",total_time)\n",
    "print()"
   ]
  },
  {
   "cell_type": "markdown",
   "metadata": {},
   "source": [
    "**Class object**"
   ]
  },
  {
   "cell_type": "code",
   "execution_count": 56,
   "metadata": {},
   "outputs": [
    {
     "name": "stdout",
     "output_type": "stream",
     "text": [
      "first_value = 500025.94019293465\n",
      "second_value = 500910.65309275064\n",
      "fourth_value = 500324.5613034676\n",
      "bool_value = 500324.5613034676\n",
      "Total time = 0.37476468086242676\n",
      "\n",
      "CPU times: user 3.69 s, sys: 3.89 ms, total: 3.69 s\n",
      "Wall time: 3.69 s\n"
     ]
    }
   ],
   "source": [
    "%%time\n",
    "total_time = 0.\n",
    "first_value = 0.\n",
    "second_value = 0.\n",
    "fourth_value = 0.\n",
    "bool_value = False\n",
    "random.seed(42)\n",
    "for _ in range(1000000):\n",
    "    index = random.randint(0, 99999)\n",
    "    obj = objects_class[index]\n",
    "    bool_value ^= obj.do_you_know_where_the_third_property_is\n",
    "    first_value += obj.first_property\n",
    "    second_value += obj.second_property\n",
    "    fourth_value += obj.fourth_property\n",
    "    \n",
    "    start = time.time()\n",
    "    obj.do_you_know_where_the_third_property_is\n",
    "    obj.first_property\n",
    "    obj.second_property\n",
    "    obj.fourth_property\n",
    "    total_time += time.time() - start\n",
    "\n",
    "print(\"first_value =\", first_value)\n",
    "print(\"second_value =\", second_value)\n",
    "print(\"fourth_value =\", fourth_value)\n",
    "print(\"bool_value =\", fourth_value)\n",
    "\n",
    "print(\"Total time =\",total_time)\n",
    "print()"
   ]
  },
  {
   "cell_type": "markdown",
   "metadata": {},
   "source": [
    "### Мораль\n",
    "Не используйте `namedtuple`, если нужна производительность, используйте слоты (`slots`) или словари (`dict`), но в последнем случае тот, кто будет читать ваш код, будет очень сильно вас не любить."
   ]
  },
  {
   "cell_type": "markdown",
   "metadata": {},
   "source": [
    "Чтобы не писать slots самому воспользуйтесь библиотекой [recordclass](https://pypi.org/project/recordclass/)"
   ]
  },
  {
   "cell_type": "markdown",
   "metadata": {},
   "source": [
    "# <span style=\"color:green\">deque</span>"
   ]
  },
  {
   "cell_type": "markdown",
   "metadata": {},
   "source": [
    "`collections.deque(iterable, [maxlen])` - создаёт очередь из итерируемого объекта с максимальной длиной maxlen. Очереди очень похожи на списки (list), за исключением того, что добавлять и удалять элементы можно либо справа, либо слева."
   ]
  },
  {
   "cell_type": "markdown",
   "metadata": {},
   "source": [
    "Основные методы:\n",
    "- append(x) - добавляет x в конец,\n",
    "- appendleft(x) - добавляет x в начало,\n",
    "- pop() - удаляет и возвращает последний элемент очереди,\n",
    "- popleft() - удаляет и возвращает первый элемент очереди."
   ]
  },
  {
   "cell_type": "markdown",
   "metadata": {},
   "source": [
    "Так как курс не про алгоритмы, то на этом всё :)\n",
    "\n",
    "#### Главное помнить, что индексирование быстрое, а также добавление, удаление в начало и в конец. Всё остальное медленное и лучше это не использовать. Только если очень хочется."
   ]
  },
  {
   "cell_type": "markdown",
   "metadata": {},
   "source": [
    "Примеры из документации:"
   ]
  },
  {
   "cell_type": "code",
   "execution_count": 57,
   "metadata": {
    "collapsed": true
   },
   "outputs": [],
   "source": [
    "from collections import deque"
   ]
  },
  {
   "cell_type": "code",
   "execution_count": 58,
   "metadata": {},
   "outputs": [
    {
     "name": "stdout",
     "output_type": "stream",
     "text": [
      "g\n",
      "h\n",
      "i\n"
     ]
    }
   ],
   "source": [
    "d = deque('ghi')                # создание deque из 3х эелементов\n",
    "for elem in d:                  # итерирование по элементам \n",
    "    print(elem)"
   ]
  },
  {
   "cell_type": "code",
   "execution_count": 59,
   "metadata": {},
   "outputs": [
    {
     "data": {
      "text/plain": [
       "deque(['f', 'g', 'h', 'i', 'j'])"
      ]
     },
     "execution_count": 59,
     "metadata": {},
     "output_type": "execute_result"
    }
   ],
   "source": [
    "d.append('j')                   # добавление элемента в конец\n",
    "d.appendleft('f')               # добавление элемента в начало\n",
    "d                                "
   ]
  },
  {
   "cell_type": "code",
   "execution_count": 60,
   "metadata": {},
   "outputs": [
    {
     "name": "stdout",
     "output_type": "stream",
     "text": [
      "j\n",
      "f\n"
     ]
    },
    {
     "data": {
      "text/plain": [
       "['g', 'h', 'i']"
      ]
     },
     "execution_count": 60,
     "metadata": {},
     "output_type": "execute_result"
    }
   ],
   "source": [
    "print(d.pop())                  # возвращает и удаляет последний элемент\n",
    "print(d.popleft())              # возвращает и удаляет первый элемент\n",
    "list(d)                          "
   ]
  },
  {
   "cell_type": "code",
   "execution_count": 61,
   "metadata": {},
   "outputs": [
    {
     "name": "stdout",
     "output_type": "stream",
     "text": [
      "g\n",
      "i\n"
     ]
    }
   ],
   "source": [
    "# обращение к элементам по индексу\n",
    "print(d[0])\n",
    "print(d[-1])"
   ]
  },
  {
   "cell_type": "code",
   "execution_count": 62,
   "metadata": {},
   "outputs": [
    {
     "data": {
      "text/plain": [
       "['i', 'h', 'g']"
      ]
     },
     "execution_count": 62,
     "metadata": {},
     "output_type": "execute_result"
    }
   ],
   "source": [
    "list(reversed(d))              # разворот очереди"
   ]
  },
  {
   "cell_type": "code",
   "execution_count": 63,
   "metadata": {},
   "outputs": [
    {
     "data": {
      "text/plain": [
       "True"
      ]
     },
     "execution_count": 63,
     "metadata": {},
     "output_type": "execute_result"
    }
   ],
   "source": [
    "'h' in d"
   ]
  },
  {
   "cell_type": "code",
   "execution_count": 64,
   "metadata": {},
   "outputs": [
    {
     "data": {
      "text/plain": [
       "deque(['g', 'h', 'i', 'j', 'k', 'l'])"
      ]
     },
     "execution_count": 64,
     "metadata": {},
     "output_type": "execute_result"
    }
   ],
   "source": [
    "# расширение очереди к концу\n",
    "d.extend('jkl')\n",
    "d"
   ]
  },
  {
   "cell_type": "code",
   "execution_count": 65,
   "metadata": {},
   "outputs": [
    {
     "data": {
      "text/plain": [
       "deque(['c', 'b', 'a', 'g', 'h', 'i', 'j', 'k', 'l'])"
      ]
     },
     "execution_count": 65,
     "metadata": {},
     "output_type": "execute_result"
    }
   ],
   "source": [
    "# расширение очереди с начала\n",
    "d.extendleft('abc')\n",
    "d"
   ]
  },
  {
   "cell_type": "code",
   "execution_count": 66,
   "metadata": {},
   "outputs": [
    {
     "data": {
      "text/plain": [
       "deque(['l', 'c', 'b', 'a', 'g', 'h', 'i', 'j', 'k'])"
      ]
     },
     "execution_count": 66,
     "metadata": {},
     "output_type": "execute_result"
    }
   ],
   "source": [
    "# rotate(n) - последовательно переносит n элементов из начала в конец (если n отрицательно, то с конца в начало)\n",
    "d.rotate(1) \n",
    "d"
   ]
  },
  {
   "cell_type": "code",
   "execution_count": 67,
   "metadata": {},
   "outputs": [
    {
     "data": {
      "text/plain": [
       "deque(['c', 'b', 'a', 'g', 'h', 'i', 'j', 'k', 'l'])"
      ]
     },
     "execution_count": 67,
     "metadata": {},
     "output_type": "execute_result"
    }
   ],
   "source": [
    "d.rotate(-1) \n",
    "d"
   ]
  },
  {
   "cell_type": "code",
   "execution_count": 68,
   "metadata": {
    "collapsed": true
   },
   "outputs": [],
   "source": [
    "d.clear()                        # очищение очереди"
   ]
  },
  {
   "cell_type": "code",
   "execution_count": 69,
   "metadata": {},
   "outputs": [
    {
     "data": {
      "text/plain": [
       "deque([])"
      ]
     },
     "execution_count": 69,
     "metadata": {},
     "output_type": "execute_result"
    }
   ],
   "source": [
    "d"
   ]
  },
  {
   "cell_type": "code",
   "execution_count": null,
   "metadata": {
    "collapsed": true
   },
   "outputs": [],
   "source": []
  }
 ],
 "metadata": {
  "kernelspec": {
   "display_name": "industry",
   "language": "python",
   "name": "industry"
  },
  "language_info": {
   "codemirror_mode": {
    "name": "ipython",
    "version": 3
   },
   "file_extension": ".py",
   "mimetype": "text/x-python",
   "name": "python",
   "nbconvert_exporter": "python",
   "pygments_lexer": "ipython3",
   "version": "3.6.3"
  }
 },
 "nbformat": 4,
 "nbformat_minor": 1
}
